{
 "cells": [
  {
   "cell_type": "markdown",
   "metadata": {},
   "source": [
    "# Course Project\n",
    "\n",
    "## CS 242: Information Retrieval & Web Search\n",
    "### Winter 2019\n",
    "\n",
    "## Build a Search Engine\n",
    "\n",
    "You must work in teams of four. If you cannot find a partner, email the TA (Merlin if you are ground student and Nhat if you are online) to connect you to other students who are looking for a partner. Teams must be formed by end of 2nd week of classes, and their composition emailed to the corresponding TA.\n",
    "\n",
    "Each project report must have a section called \"Collaboration Details\" where you should clearly specify the contributions of each member of the team.\n",
    "\n",
    "### Part A: Collect your data and Index with Lucene\n",
    "\n",
    "#### A1: You have the following options:\n",
    "\n",
    "1. Crawl the Web to get Web pages using jsoup (http://jsoup.org/). You may also use Scrapy (https://scrapy.org/) if you prefer Python. You may restrict pages to some category, e.g., edu pages, or pages with at least five images, etc.\n",
    "\n",
    "2.  Crawl the Web to get images with their captions and names (to be used for indexing in next parts) using jsoup or Scrapy. Only use smaller imaged (<200KB) so you don’t stress our Hadoop cluster later.\n",
    "\n",
    "3.  Use Twitter Streaming API (https://developer.twitter.com/en/docs/tutorials/consuming-streaming-data.html) to get Tweets. You can also use Tweepy (tweepy.org) if you prefer Python. (hint: Filter to only collect geotagged tweets, so you can then display them on a map in Part B.)\n",
    "\n",
    "4.  Your own ideas for a dataset are also acceptable, pending instructor approval.\n",
    "\n",
    "***Collect at least 5 GB of data, but no more than 10GB.\n",
    "We recommend using Java, but not required.***\n",
    "\n",
    "#### A2: Index your data using Lucene (not Solr)\n",
    "You will be graded on the correctness and efficiency of your solution (e.g., how does the crawler handle duplicate pages? Is the crawler multi-threaded? How do you store the incoming tweets to maximize throughput?), and the design choices made when using Lucene (e.g., did you remove stop words, and why?  Or did you index hashtags separately from keywords and why?).\n"
   ]
  },
  {
   "cell_type": "markdown",
   "metadata": {},
   "source": [
    "\n",
    "\n",
    "[![IMAGE ALT TEXT HERE](http://i3.ytimg.com/vi/rhBZqEWsZU4/maxresdefault.jpg)](https://www.youtube.com/watch?v=rhBZqEWsZU4) "
   ]
  },
  {
   "cell_type": "code",
   "execution_count": 1,
   "metadata": {},
   "outputs": [],
   "source": [
    "from tweepy import API\n",
    "from tweepy import Cursor\n",
    "from tweepy.streaming import StreamListener\n",
    "from tweepy import OAuthHandler \n",
    "from tweepy import Stream\n",
    "\n",
    "import twitter_credentials "
   ]
  },
  {
   "cell_type": "markdown",
   "metadata": {},
   "source": [
    "## Twitter Classes \n",
    "\n",
    "Client: Extract all relavent information about a specified twitter user(\"client\")\n",
    "\n",
    "Streamer: Streams and Process life tweets. It handels Authentication and the connection to twitter api.\n",
    "\n",
    "Lister: Basic listener class, receives new data and decides how to handel it."
   ]
  },
  {
   "cell_type": "code",
   "execution_count": 29,
   "metadata": {},
   "outputs": [],
   "source": [
    "\n",
    "class TwitterClient():\n",
    "    \n",
    "    ## Specify a twitter user or else it defaults back to itself \n",
    "    def __init__(self, twitter_user = None):\n",
    "        self.auth = TwitterAuthenticator().authenticate_twitter_app()\n",
    "        self.twitter_client = API(self.auth)\n",
    "        self.twitter_user = twitter_user\n",
    "    \n",
    "    def get_user_timeline_tweets(self, num_tweets ):\n",
    "        tweets = []\n",
    "        for tweet in Cursor(self.twitter_client.user_timeline, id=self.twitter_user).items(num_tweets):\n",
    "            tweets.append(tweet)\n",
    "        return tweets\n",
    "    \n",
    "    def get_friend_list(self, num_friends):\n",
    "        friend_list =[]\n",
    "        for friend in Cursor(self.twitter_client.friends, id=self.twitter_user).items(num_friends):\n",
    "            friend_list.append(friend)\n",
    "        return friend_list\n",
    "    \n",
    "    \n",
    "    def get_home_timeline_tweets(self, num_tweets):\n",
    "        home_timeline_tweets = []\n",
    "        for tweets in Cursor(self.twitter_client.home_timeline, id =self.twitter_user).items(num_tweets):\n",
    "            home_timeline_tweets.append(tweets)\n",
    "        return home_timeline_tweets\n",
    "    \n",
    "    \n",
    "class TwitterAuthenticator():\n",
    "    \n",
    "    def authenticate_twitter_app(self):\n",
    "        auth = OAuthHandler(twitter_credentials.CONSUMER_KEY, twitter_credentials.CONSUMER_SECRET)\n",
    "        auth.set_access_token(twitter_credentials.ACCESS_TOKEN, twitter_credentials.ACCESS_TOKEN_SECRET)\n",
    "        return auth\n",
    "\n",
    "\n",
    "\n",
    "# # # # TWITTER STREAMER # # # #\n",
    "class TwitterStreamer():\n",
    "    \"\"\"\n",
    "    Class for streaming and processing live tweets.\n",
    "    \"\"\"\n",
    "    def __init__(self):\n",
    "        self.twitter_autenticator = TwitterAuthenticator()    \n",
    "\n",
    "    def stream_tweets(self, fetched_tweets_filename, hash_tag_list):\n",
    "        # This handles Twitter authetification and the connection to Twitter Streaming API\n",
    "        listener = TwitterListener(fetched_tweets_filename)\n",
    "        auth = self.twitter_autenticator.authenticate_twitter_app() \n",
    "        stream = Stream(auth, listener)\n",
    "\n",
    "        # This line filter Twitter Streams to capture data by the keywords: \n",
    "        stream.filter(track=hash_tag_list)\n",
    "\n",
    "\n",
    "class TwitterListener(StreamListener):\n",
    "    def __init__(self, fetched_tweets_filename):\n",
    "        self.fetch_tweets_filename = fetched_tweets_filename\n",
    "        \n",
    "    #define how to deal with the data \n",
    "    def on_data(self,data):\n",
    "        try:\n",
    "            print(data)\n",
    "            with open(self.fetch_tweets_filename, 'a') as tf:\n",
    "                tf.write(data)\n",
    "            return True\n",
    "        except BaseException as e:\n",
    "            print(\"Error on_data: %s \" %str(e))\n",
    "        return True\n",
    "    \n",
    "    #override to deal with errors \n",
    "    def on_error(self,status):\n",
    "        if status == 420:\n",
    "            #return False on_data method in case we reach twitter brake limit \n",
    "            return False\n",
    "        print(status)\n",
    "        "
   ]
  },
  {
   "cell_type": "markdown",
   "metadata": {},
   "source": [
    "# Algorithm for extracting data \n",
    "\n",
    "![title](img/web_crawler.jpg)\n"
   ]
  },
  {
   "cell_type": "code",
   "execution_count": 30,
   "metadata": {},
   "outputs": [
    {
     "name": "stdout",
     "output_type": "stream",
     "text": [
      "[Status(_api=<tweepy.api.API object at 0x7fd68b91a2b0>, _json={'created_at': 'Thu Jan 31 22:13:46 +0000 2019', 'id': 1091097233821323264, 'id_str': '1091097233821323264', 'text': '@Erdayastronaut @keego73 Absolutely. You’ve touched on a very important point. The ship must be easy to repair on the moon and Mars.', 'truncated': False, 'entities': {'hashtags': [], 'symbols': [], 'user_mentions': [{'screen_name': 'Erdayastronaut', 'name': 'Everyday Astronaut', 'id': 3167257102, 'id_str': '3167257102', 'indices': [0, 15]}, {'screen_name': 'keego73', 'name': 'Matthew Keegan', 'id': 2264130601, 'id_str': '2264130601', 'indices': [16, 24]}], 'urls': []}, 'source': '<a href=\"http://twitter.com/download/iphone\" rel=\"nofollow\">Twitter for iPhone</a>', 'in_reply_to_status_id': 1091071464919453696, 'in_reply_to_status_id_str': '1091071464919453696', 'in_reply_to_user_id': 3167257102, 'in_reply_to_user_id_str': '3167257102', 'in_reply_to_screen_name': 'Erdayastronaut', 'user': {'id': 44196397, 'id_str': '44196397', 'name': 'Elon Musk', 'screen_name': 'elonmusk', 'location': '', 'description': '', 'url': None, 'entities': {'description': {'urls': []}}, 'protected': False, 'followers_count': 24442293, 'friends_count': 78, 'listed_count': 48534, 'created_at': 'Tue Jun 02 20:12:29 +0000 2009', 'favourites_count': 2177, 'utc_offset': None, 'time_zone': None, 'geo_enabled': False, 'verified': True, 'statuses_count': 6539, 'lang': 'en', 'contributors_enabled': False, 'is_translator': False, 'is_translation_enabled': False, 'profile_background_color': 'C0DEED', 'profile_background_image_url': 'http://abs.twimg.com/images/themes/theme1/bg.png', 'profile_background_image_url_https': 'https://abs.twimg.com/images/themes/theme1/bg.png', 'profile_background_tile': False, 'profile_image_url': 'http://pbs.twimg.com/profile_images/1082975776113340416/-hQlqBJA_normal.jpg', 'profile_image_url_https': 'https://pbs.twimg.com/profile_images/1082975776113340416/-hQlqBJA_normal.jpg', 'profile_banner_url': 'https://pbs.twimg.com/profile_banners/44196397/1354486475', 'profile_link_color': '0084B4', 'profile_sidebar_border_color': 'C0DEED', 'profile_sidebar_fill_color': 'DDEEF6', 'profile_text_color': '333333', 'profile_use_background_image': True, 'has_extended_profile': True, 'default_profile': False, 'default_profile_image': False, 'following': True, 'follow_request_sent': False, 'notifications': False, 'translator_type': 'none'}, 'geo': None, 'coordinates': None, 'place': None, 'contributors': None, 'is_quote_status': False, 'retweet_count': 55, 'favorite_count': 870, 'favorited': False, 'retweeted': False, 'lang': 'en'}, created_at=datetime.datetime(2019, 1, 31, 22, 13, 46), id=1091097233821323264, id_str='1091097233821323264', text='@Erdayastronaut @keego73 Absolutely. You’ve touched on a very important point. The ship must be easy to repair on the moon and Mars.', truncated=False, entities={'hashtags': [], 'symbols': [], 'user_mentions': [{'screen_name': 'Erdayastronaut', 'name': 'Everyday Astronaut', 'id': 3167257102, 'id_str': '3167257102', 'indices': [0, 15]}, {'screen_name': 'keego73', 'name': 'Matthew Keegan', 'id': 2264130601, 'id_str': '2264130601', 'indices': [16, 24]}], 'urls': []}, source='Twitter for iPhone', source_url='http://twitter.com/download/iphone', in_reply_to_status_id=1091071464919453696, in_reply_to_status_id_str='1091071464919453696', in_reply_to_user_id=3167257102, in_reply_to_user_id_str='3167257102', in_reply_to_screen_name='Erdayastronaut', author=User(_api=<tweepy.api.API object at 0x7fd68b91a2b0>, _json={'id': 44196397, 'id_str': '44196397', 'name': 'Elon Musk', 'screen_name': 'elonmusk', 'location': '', 'description': '', 'url': None, 'entities': {'description': {'urls': []}}, 'protected': False, 'followers_count': 24442293, 'friends_count': 78, 'listed_count': 48534, 'created_at': 'Tue Jun 02 20:12:29 +0000 2009', 'favourites_count': 2177, 'utc_offset': None, 'time_zone': None, 'geo_enabled': False, 'verified': True, 'statuses_count': 6539, 'lang': 'en', 'contributors_enabled': False, 'is_translator': False, 'is_translation_enabled': False, 'profile_background_color': 'C0DEED', 'profile_background_image_url': 'http://abs.twimg.com/images/themes/theme1/bg.png', 'profile_background_image_url_https': 'https://abs.twimg.com/images/themes/theme1/bg.png', 'profile_background_tile': False, 'profile_image_url': 'http://pbs.twimg.com/profile_images/1082975776113340416/-hQlqBJA_normal.jpg', 'profile_image_url_https': 'https://pbs.twimg.com/profile_images/1082975776113340416/-hQlqBJA_normal.jpg', 'profile_banner_url': 'https://pbs.twimg.com/profile_banners/44196397/1354486475', 'profile_link_color': '0084B4', 'profile_sidebar_border_color': 'C0DEED', 'profile_sidebar_fill_color': 'DDEEF6', 'profile_text_color': '333333', 'profile_use_background_image': True, 'has_extended_profile': True, 'default_profile': False, 'default_profile_image': False, 'following': True, 'follow_request_sent': False, 'notifications': False, 'translator_type': 'none'}, id=44196397, id_str='44196397', name='Elon Musk', screen_name='elonmusk', location='', description='', url=None, entities={'description': {'urls': []}}, protected=False, followers_count=24442293, friends_count=78, listed_count=48534, created_at=datetime.datetime(2009, 6, 2, 20, 12, 29), favourites_count=2177, utc_offset=None, time_zone=None, geo_enabled=False, verified=True, statuses_count=6539, lang='en', contributors_enabled=False, is_translator=False, is_translation_enabled=False, profile_background_color='C0DEED', profile_background_image_url='http://abs.twimg.com/images/themes/theme1/bg.png', profile_background_image_url_https='https://abs.twimg.com/images/themes/theme1/bg.png', profile_background_tile=False, profile_image_url='http://pbs.twimg.com/profile_images/1082975776113340416/-hQlqBJA_normal.jpg', profile_image_url_https='https://pbs.twimg.com/profile_images/1082975776113340416/-hQlqBJA_normal.jpg', profile_banner_url='https://pbs.twimg.com/profile_banners/44196397/1354486475', profile_link_color='0084B4', profile_sidebar_border_color='C0DEED', profile_sidebar_fill_color='DDEEF6', profile_text_color='333333', profile_use_background_image=True, has_extended_profile=True, default_profile=False, default_profile_image=False, following=True, follow_request_sent=False, notifications=False, translator_type='none'), user=User(_api=<tweepy.api.API object at 0x7fd68b91a2b0>, _json={'id': 44196397, 'id_str': '44196397', 'name': 'Elon Musk', 'screen_name': 'elonmusk', 'location': '', 'description': '', 'url': None, 'entities': {'description': {'urls': []}}, 'protected': False, 'followers_count': 24442293, 'friends_count': 78, 'listed_count': 48534, 'created_at': 'Tue Jun 02 20:12:29 +0000 2009', 'favourites_count': 2177, 'utc_offset': None, 'time_zone': None, 'geo_enabled': False, 'verified': True, 'statuses_count': 6539, 'lang': 'en', 'contributors_enabled': False, 'is_translator': False, 'is_translation_enabled': False, 'profile_background_color': 'C0DEED', 'profile_background_image_url': 'http://abs.twimg.com/images/themes/theme1/bg.png', 'profile_background_image_url_https': 'https://abs.twimg.com/images/themes/theme1/bg.png', 'profile_background_tile': False, 'profile_image_url': 'http://pbs.twimg.com/profile_images/1082975776113340416/-hQlqBJA_normal.jpg', 'profile_image_url_https': 'https://pbs.twimg.com/profile_images/1082975776113340416/-hQlqBJA_normal.jpg', 'profile_banner_url': 'https://pbs.twimg.com/profile_banners/44196397/1354486475', 'profile_link_color': '0084B4', 'profile_sidebar_border_color': 'C0DEED', 'profile_sidebar_fill_color': 'DDEEF6', 'profile_text_color': '333333', 'profile_use_background_image': True, 'has_extended_profile': True, 'default_profile': False, 'default_profile_image': False, 'following': True, 'follow_request_sent': False, 'notifications': False, 'translator_type': 'none'}, id=44196397, id_str='44196397', name='Elon Musk', screen_name='elonmusk', location='', description='', url=None, entities={'description': {'urls': []}}, protected=False, followers_count=24442293, friends_count=78, listed_count=48534, created_at=datetime.datetime(2009, 6, 2, 20, 12, 29), favourites_count=2177, utc_offset=None, time_zone=None, geo_enabled=False, verified=True, statuses_count=6539, lang='en', contributors_enabled=False, is_translator=False, is_translation_enabled=False, profile_background_color='C0DEED', profile_background_image_url='http://abs.twimg.com/images/themes/theme1/bg.png', profile_background_image_url_https='https://abs.twimg.com/images/themes/theme1/bg.png', profile_background_tile=False, profile_image_url='http://pbs.twimg.com/profile_images/1082975776113340416/-hQlqBJA_normal.jpg', profile_image_url_https='https://pbs.twimg.com/profile_images/1082975776113340416/-hQlqBJA_normal.jpg', profile_banner_url='https://pbs.twimg.com/profile_banners/44196397/1354486475', profile_link_color='0084B4', profile_sidebar_border_color='C0DEED', profile_sidebar_fill_color='DDEEF6', profile_text_color='333333', profile_use_background_image=True, has_extended_profile=True, default_profile=False, default_profile_image=False, following=True, follow_request_sent=False, notifications=False, translator_type='none'), geo=None, coordinates=None, place=None, contributors=None, is_quote_status=False, retweet_count=55, favorite_count=870, favorited=False, retweeted=False, lang='en')]\n"
     ]
    }
   ],
   "source": [
    "hash_tag_list = [\"elon musk, donal trump\"]\n",
    "fetch_tweets_filename = \" elon_tweets.json\"\n",
    "\n",
    "twitter_client = TwitterClient('elonmusk')\n",
    "\n",
    "print(twitter_client.get_user_timeline_tweets(1))\n",
    "\n",
    "# twitter_streamer = TwitterStreamer()\n",
    "# twitter_streamer.stream_tweets(fetch_tweets_filename, hash_tag_list)\n"
   ]
  },
  {
   "cell_type": "code",
   "execution_count": null,
   "metadata": {},
   "outputs": [],
   "source": [
    "%lsmagic"
   ]
  },
  {
   "cell_type": "code",
   "execution_count": null,
   "metadata": {},
   "outputs": [],
   "source": [
    "%ls"
   ]
  },
  {
   "cell_type": "code",
   "execution_count": null,
   "metadata": {},
   "outputs": [],
   "source": [
    "%%time\n",
    "square_evens = [n*n for n in range(100000000)]\n"
   ]
  },
  {
   "cell_type": "code",
   "execution_count": null,
   "metadata": {},
   "outputs": [],
   "source": []
  }
 ],
 "metadata": {
  "kernelspec": {
   "display_name": "Python (tweepy_env)",
   "language": "python",
   "name": "tweepy_env"
  },
  "language_info": {
   "codemirror_mode": {
    "name": "ipython",
    "version": 3
   },
   "file_extension": ".py",
   "mimetype": "text/x-python",
   "name": "python",
   "nbconvert_exporter": "python",
   "pygments_lexer": "ipython3",
   "version": "3.7.1"
  }
 },
 "nbformat": 4,
 "nbformat_minor": 2
}
